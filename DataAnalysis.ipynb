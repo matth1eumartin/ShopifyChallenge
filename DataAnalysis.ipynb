{
 "cells": [
  {
   "cell_type": "markdown",
   "id": "b92770b8",
   "metadata": {},
   "source": [
    "# Shopify Data Science Intern Challenge\n",
    "#### Written by Matthieu Martin <br>\n",
    "Would just like to note that as order_amount was unlabelled in terms of currency, I have therefore used Pounds. If it was Euros, Dollars or perhaps Tanzanian Shillings, I profusely aplogise."
   ]
  },
  {
   "cell_type": "code",
   "execution_count": 51,
   "id": "ecedd30c",
   "metadata": {},
   "outputs": [],
   "source": [
    "#importing all required modules (love pandas <3)\n",
    "import csv\n",
    "import pandas as pd\n",
    "from matplotlib import pyplot as plt\n",
    "from scipy.stats import trim_mean"
   ]
  },
  {
   "cell_type": "code",
   "execution_count": 33,
   "id": "e12b1a1f",
   "metadata": {
    "scrolled": true
   },
   "outputs": [
    {
     "name": "stdout",
     "output_type": "stream",
     "text": [
      "   order_id  shop_id  user_id  order_amount  total_items payment_method  \\\n",
      "0         1       53      746           224            2           cash   \n",
      "1         2       92      925            90            1           cash   \n",
      "2         3       44      861           144            1           cash   \n",
      "3         4       18      935           156            1    credit_card   \n",
      "4         5       18      883           156            1    credit_card   \n",
      "\n",
      "            created_at  \n",
      "0  2017-03-13 12:36:56  \n",
      "1  2017-03-03 17:38:52  \n",
      "2   2017-03-14 4:23:56  \n",
      "3  2017-03-26 12:43:37  \n",
      "4   2017-03-01 4:35:11  \n"
     ]
    }
   ],
   "source": [
    "#converting csv file to dataframe to csv file for some exploratory data analysis\n",
    "sneaker_df = pd.read_csv('shopifyChallengeData.csv')\n",
    "print(sneaker_df.head())"
   ]
  },
  {
   "cell_type": "code",
   "execution_count": 53,
   "id": "ec09585c",
   "metadata": {},
   "outputs": [
    {
     "name": "stdout",
     "output_type": "stream",
     "text": [
      "Average sneaker order amount: £3145.128\n"
     ]
    }
   ],
   "source": [
    "#verifying the mean value is as stated in the prompt\n",
    "print(f\"Average sneaker order amount: £{sneaker_df['order_amount'].mean()}\")"
   ]
  },
  {
   "cell_type": "markdown",
   "id": "4e4f23c7",
   "metadata": {},
   "source": [
    "As it was specified in the question, we can see that the average order amount is very high - the values shown in our preliminary inspection of the first 5 rows of the data show that the average amount should be in the 3 digits range. This means that there is most likely some very outlying values in our dataset, and we can confirm this by finding the maximum values."
   ]
  },
  {
   "cell_type": "code",
   "execution_count": 55,
   "id": "ed06ed60",
   "metadata": {},
   "outputs": [
    {
     "name": "stdout",
     "output_type": "stream",
     "text": [
      "Most expensive sneaker order: £704000\n",
      "Number of sneaker orders that cost more than £5000: 63\n",
      "Number of Orders in dataset: 5000\n"
     ]
    }
   ],
   "source": [
    "print(f\"Most expensive sneaker order: £{sneaker_df['order_amount'].max()}\")\n",
    "print(f\"Number of sneaker orders that cost more than £5000: {sneaker_df.order_amount[sneaker_df.order_amount > 5000].count()}\")\n",
    "print(f\"Number of Orders in dataset: {len(sneaker_df)}\")"
   ]
  },
  {
   "cell_type": "markdown",
   "id": "17246dcc",
   "metadata": {},
   "source": [
    "By running some quick queries on our dataset, we can see that our maximum order amount is £704000 - an absurd amount for shoes. There are also 63 pairs of shoes that have been sold for over £5000. This means that we have some very rich customers and those shoes have been bought as collectors items - shoes can be sold for extortionate rates because of rarity and demand. This could mean that the user may be using a bot to automate buying shoes for reselling, and this account may need to be checked if this violates the user terms of service. The other possible explanation is that there has been some kind of error collecting our shoe prices, and this should also be checked. Either way, to obtain a more accurate value for our average shoe, we can either use the median to find the middle of our shoe data set, or we can find an average value while discounting our top and bottom average shoe order prices. We can also create a histogram to show the distribution of our shoe prices of our lower value orders, because who doesn't love graphs in data science! (But more seriously, this will show us the distribution of our lower value orders, which you may be interested in.)"
   ]
  },
  {
   "cell_type": "code",
   "execution_count": 70,
   "id": "9dc91961",
   "metadata": {},
   "outputs": [
    {
     "name": "stdout",
     "output_type": "stream",
     "text": [
      "Median shoe price: £284.0\n",
      "Average shoe price while discounting the top and bottom 5%: £294\n"
     ]
    },
    {
     "data": {
      "image/png": "[encoded data removed]",
      "text/plain": [
       "<Figure size 1152x576 with 1 Axes>"
      ]
     },
     "metadata": {
      "needs_background": "light"
     },
     "output_type": "display_data"
    }
   ],
   "source": [
    "#finding median\n",
    "print(f\"Median shoe order price: £{sneaker_df['order_amount'].median()}\")\n",
    "\n",
    "#finding trimmed mean\n",
    "trmean_orderAmount = trim_mean(sneaker_df.order_amount, proportiontocut=0.05)\n",
    "print(f\"Average shoe order price while discounting the top and bottom 5%: £{round(trmean_orderAmount)}\")\n",
    "\n",
    "#making figure sizes\n",
    "plt.figure(figsize=(16, 8))\n",
    "\n",
    "#creating histogram\n",
    "plt.subplot(1,2,1)\n",
    "plt.hist(sneaker_df.order_amount[sneaker_df.order_amount < 1500])\n",
    "plt.title('Shopify Sneaker Order Amounts (Shoes less than £1500)')\n",
    "plt.xlabel('Price')\n",
    "plt.ylabel('Number of Orders')\n",
    "plt.show()"
   ]
  },
  {
   "cell_type": "markdown",
   "id": "44c393f9",
   "metadata": {},
   "source": [
    "From this histogram, we can see that there is a left-skewed distribution. This means that most of our orders are in fact under £200, but the average prices are carried above this value because of more expensive orders that carry a heavier weight. This means that the median value of this data set would show the true middle of the amounts that customers spend on their sneaker orders at Shopify."
   ]
  }
 ],
 "metadata": {
  "kernelspec": {
   "display_name": "Python 3 (ipykernel)",
   "language": "python",
   "name": "python3"
  },
  "language_info": {
   "codemirror_mode": {
    "name": "ipython",
    "version": 3
   },
   "file_extension": ".py",
   "mimetype": "text/x-python",
   "name": "python",
   "nbconvert_exporter": "python",
   "pygments_lexer": "ipython3",
   "version": "3.9.7"
  }
 },
 "nbformat": 4,
 "nbformat_minor": 5
}
